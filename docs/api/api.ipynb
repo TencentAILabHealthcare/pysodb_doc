{
 "cells": [
  {
   "cell_type": "markdown",
   "metadata": {},
   "source": [
    "# APIs"
   ]
  },
  {
   "cell_type": "markdown",
   "metadata": {},
   "source": [
    "### Import and Initialization"
   ]
  },
  {
   "cell_type": "code",
   "execution_count": 1,
   "metadata": {},
   "outputs": [],
   "source": [
    "import pysodb"
   ]
  },
  {
   "cell_type": "code",
   "execution_count": 2,
   "metadata": {},
   "outputs": [],
   "source": [
    "# to access what datasets are privided by SODB, \n",
    "# one can either use the command-line version of sodb like following,\n",
    "# or directly visiting the GUI website: https://gene.ai.tencent.com/SpatialOmics/"
   ]
  },
  {
   "cell_type": "code",
   "execution_count": 3,
   "metadata": {},
   "outputs": [],
   "source": [
    "# Initialization\n",
    "sodb = pysodb.SODB()"
   ]
  },
  {
   "cell_type": "markdown",
   "metadata": {},
   "source": [
    "### List datasets"
   ]
  },
  {
   "cell_type": "code",
   "execution_count": 4,
   "metadata": {},
   "outputs": [
    {
     "data": {
      "text/plain": [
       "['rodriques2019slide',\n",
       " 'Dhainaut2022Spatial',\n",
       " 'eng2019transcriptome',\n",
       " 'gut2018multiplexed',\n",
       " 'Gouin2021An',\n",
       " 'maynard2021trans',\n",
       " 'Beechem2022High',\n",
       " 'stahl2016visualization',\n",
       " 'carlberg2019exploring',\n",
       " 'lohoff2021integration',\n",
       " 'Shah2016InSitu',\n",
       " 'xia2022the',\n",
       " 'Garcia2021Mapping',\n",
       " 'mantri2021spatiotemporal',\n",
       " 'ortiz2020molecular',\n",
       " 'hartmann2020single_cell',\n",
       " 'liu2020high',\n",
       " 'berglund2018spatial',\n",
       " 'Goltsev2028deep',\n",
       " 'schurch2020coordinated',\n",
       " 'asp2017spatial',\n",
       " 'zhang2021spatially',\n",
       " 'ji2020multimodal',\n",
       " 'Buzzi2022Spatial',\n",
       " 'Fang2022Conservation',\n",
       " 'Biermann2022Dissecting',\n",
       " 'wang2022high',\n",
       " 'codeluppi2018spatial',\n",
       " 'MALDI_lung',\n",
       " 'mcCaffrey2022the',\n",
       " '10x',\n",
       " 'bergenstrahle2021super',\n",
       " 'hildebrandt2021spatial',\n",
       " 'chen2020spatial',\n",
       " 'maniatis2019spatiotemporal',\n",
       " 'hunter2021spatially',\n",
       " 'Pascual2021Dietary',\n",
       " 'he2020integrating',\n",
       " 'Wang2018three',\n",
       " 'keren2018a',\n",
       " 'fawkner2021spatiotemporal',\n",
       " 'MALDI_seed',\n",
       " 'asp2019a',\n",
       " 'Wang2018Three_1k',\n",
       " 'chen2022spatiotemporal',\n",
       " 'Tower2021Spatial',\n",
       " 'moffitt2018molecular',\n",
       " 'guilliams2022spatial',\n",
       " 'kuett2021three',\n",
       " 'yuan2021seam',\n",
       " 'chen2022spatiotemporal_compre_20',\n",
       " 'liu2022reproducible',\n",
       " 'Sun2022Excitatory',\n",
       " 'Barkley2022Cancer',\n",
       " 'lin2018highly',\n",
       " 'Sanchez2021A',\n",
       " 'kvastad2021the',\n",
       " 'xia2019spatial',\n",
       " 'scispace',\n",
       " 'Joglekar2021A',\n",
       " 'chen2021dissecting',\n",
       " 'zhao2022spatial',\n",
       " 'Kleshchevnikov2022Cell2location',\n",
       " 'Vickovic2019high',\n",
       " 'niehaus2019transmission',\n",
       " 'Marshall2022High_mouse',\n",
       " 'Juntaro2022MEK',\n",
       " 'Ratz2022Clonal',\n",
       " 'parigi2022the',\n",
       " 'moncada2020integrating',\n",
       " 'Kadur2022Human',\n",
       " 'MALDI_kidney',\n",
       " 'stickels2020highly',\n",
       " 'Dixon2022Spatially',\n",
       " 'thrane2018spatially',\n",
       " 'Konieczny2022Interleukin',\n",
       " 'desi_metaspace',\n",
       " 'chen2021decoding',\n",
       " 'wang2021easi',\n",
       " 'risom2022transition',\n",
       " 'liu2022spatiotemporal',\n",
       " 'MALDI_brain',\n",
       " 'Lebrigand2022The',\n",
       " 'gracia2021genome',\n",
       " 'Misra2021Characterizing',\n",
       " 'Melo2021Integrating',\n",
       " 'Navarro2020Spatial',\n",
       " 'Marshall2022High_human',\n",
       " 'backdahl2021spatial']"
      ]
     },
     "execution_count": 4,
     "metadata": {},
     "output_type": "execute_result"
    }
   ],
   "source": [
    "# show the all datasets\n",
    "sodb.list_dataset()"
   ]
  },
  {
   "cell_type": "markdown",
   "metadata": {},
   "source": [
    "### List datasets by category"
   ]
  },
  {
   "cell_type": "code",
   "execution_count": 5,
   "metadata": {},
   "outputs": [
    {
     "data": {
      "text/plain": [
       "['Goltsev2028deep',\n",
       " 'kuett2021three',\n",
       " 'schurch2020coordinated',\n",
       " 'risom2022transition',\n",
       " 'keren2018a',\n",
       " 'mcCaffrey2022the',\n",
       " 'liu2022reproducible',\n",
       " 'hartmann2020single_cell',\n",
       " 'lin2018highly',\n",
       " 'gut2018multiplexed']"
      ]
     },
     "execution_count": 5,
     "metadata": {},
     "output_type": "execute_result"
    }
   ],
   "source": [
    "# show the spatial proteomics datasets\n",
    "sodb.list_dataset_by_category('Spatial Proteomics')"
   ]
  },
  {
   "cell_type": "code",
   "execution_count": 6,
   "metadata": {},
   "outputs": [
    {
     "data": {
      "text/plain": [
       "['he2020integrating',\n",
       " 'Kleshchevnikov2022Cell2location',\n",
       " 'Vickovic2019high',\n",
       " 'Marshall2022High_mouse',\n",
       " 'Juntaro2022MEK',\n",
       " 'Wang2018three',\n",
       " 'asp2017spatial',\n",
       " 'Ratz2022Clonal',\n",
       " 'rodriques2019slide',\n",
       " 'ji2020multimodal',\n",
       " 'zhang2021spatially',\n",
       " 'parigi2022the',\n",
       " 'fawkner2021spatiotemporal',\n",
       " 'Dhainaut2022Spatial',\n",
       " 'eng2019transcriptome',\n",
       " 'moncada2020integrating',\n",
       " 'Gouin2021An',\n",
       " 'Buzzi2022Spatial',\n",
       " 'Fang2022Conservation',\n",
       " 'maynard2021trans',\n",
       " 'asp2019a',\n",
       " 'Kadur2022Human',\n",
       " 'Biermann2022Dissecting',\n",
       " 'stickels2020highly',\n",
       " 'Wang2018Three_1k',\n",
       " 'chen2022spatiotemporal',\n",
       " 'Dixon2022Spatially',\n",
       " 'thrane2018spatially',\n",
       " 'Konieczny2022Interleukin',\n",
       " 'wang2022high',\n",
       " 'Tower2021Spatial',\n",
       " 'stahl2016visualization',\n",
       " 'moffitt2018molecular',\n",
       " 'chen2021decoding',\n",
       " 'guilliams2022spatial',\n",
       " 'codeluppi2018spatial',\n",
       " 'wang2021easi',\n",
       " '10x',\n",
       " 'carlberg2019exploring',\n",
       " 'bergenstrahle2021super',\n",
       " 'chen2022spatiotemporal_compre_20',\n",
       " 'Sun2022Excitatory',\n",
       " 'liu2022spatiotemporal',\n",
       " 'Barkley2022Cancer',\n",
       " 'Lebrigand2022The',\n",
       " 'gracia2021genome',\n",
       " 'hildebrandt2021spatial',\n",
       " 'Sanchez2021A',\n",
       " 'chen2020spatial',\n",
       " 'kvastad2021the',\n",
       " 'lohoff2021integration',\n",
       " 'xia2019spatial',\n",
       " 'maniatis2019spatiotemporal',\n",
       " 'hunter2021spatially',\n",
       " 'Shah2016InSitu',\n",
       " 'Pascual2021Dietary',\n",
       " 'scispace',\n",
       " 'xia2022the',\n",
       " 'Garcia2021Mapping',\n",
       " 'Melo2021Integrating',\n",
       " 'Misra2021Characterizing',\n",
       " 'Joglekar2021A',\n",
       " 'Navarro2020Spatial',\n",
       " 'mantri2021spatiotemporal',\n",
       " 'ortiz2020molecular',\n",
       " 'chen2021dissecting',\n",
       " 'Marshall2022High_human',\n",
       " 'berglund2018spatial',\n",
       " 'backdahl2021spatial']"
      ]
     },
     "execution_count": 6,
     "metadata": {},
     "output_type": "execute_result"
    }
   ],
   "source": [
    "# show the spatial transcriptomics datasets\n",
    "sodb.list_dataset_by_category('Spatial Transcriptomics')"
   ]
  },
  {
   "cell_type": "code",
   "execution_count": 7,
   "metadata": {},
   "outputs": [
    {
     "data": {
      "text/plain": [
       "['desi_metaspace',\n",
       " 'MALDI_seed',\n",
       " 'yuan2021seam',\n",
       " 'MALDI_lung',\n",
       " 'niehaus2019transmission',\n",
       " 'MALDI_kidney',\n",
       " 'MALDI_brain']"
      ]
     },
     "execution_count": 7,
     "metadata": {},
     "output_type": "execute_result"
    }
   ],
   "source": [
    "# show the spatial metabolomics datasets\n",
    "sodb.list_dataset_by_category('Spatial Metabolomics')"
   ]
  },
  {
   "cell_type": "code",
   "execution_count": 8,
   "metadata": {},
   "outputs": [
    {
     "data": {
      "text/plain": [
       "['Beechem2022High', 'liu2020high']"
      ]
     },
     "execution_count": 8,
     "metadata": {},
     "output_type": "execute_result"
    }
   ],
   "source": [
    "# show the spatial MultiOmics datasets\n",
    "sodb.list_dataset_by_category('Spatial MultiOmics')"
   ]
  },
  {
   "cell_type": "code",
   "execution_count": 9,
   "metadata": {},
   "outputs": [
    {
     "data": {
      "text/plain": [
       "['zhao2022spatial']"
      ]
     },
     "execution_count": 9,
     "metadata": {},
     "output_type": "execute_result"
    }
   ],
   "source": [
    "# show the spatial genomics datasets\n",
    "sodb.list_dataset_by_category('Spatial Genomics')"
   ]
  },
  {
   "cell_type": "markdown",
   "metadata": {},
   "source": [
    "### List experiments by dataset"
   ]
  },
  {
   "cell_type": "code",
   "execution_count": 10,
   "metadata": {},
   "outputs": [
    {
     "data": {
      "text/plain": [
       "['cell_129',\n",
       " 'cell_143',\n",
       " 'cell_140',\n",
       " 'cell_127',\n",
       " 'cell_122',\n",
       " 'cell_120',\n",
       " 'cell_139',\n",
       " 'cell_146',\n",
       " 'cell_all',\n",
       " 'cell_136',\n",
       " 'cell_141',\n",
       " 'cell_118',\n",
       " 'cell_119',\n",
       " 'cell_142']"
      ]
     },
     "execution_count": 10,
     "metadata": {},
     "output_type": "execute_result"
    }
   ],
   "source": [
    "# show the spatial genomics datasets\n",
    "sodb.list_experiment_by_dataset('gut2018multiplexed')"
   ]
  },
  {
   "cell_type": "markdown",
   "metadata": {},
   "source": [
    "### load dataset"
   ]
  },
  {
   "cell_type": "code",
   "execution_count": 11,
   "metadata": {},
   "outputs": [
    {
     "name": "stdout",
     "output_type": "stream",
     "text": [
      "download experiment[R2_pixel] in dataset[yuan2021seam]\n"
     ]
    },
    {
     "name": "stderr",
     "output_type": "stream",
     "text": [
      "100%|██████████| 114M/114M [00:08<00:00, 13.3MB/s] \n"
     ]
    },
    {
     "name": "stdout",
     "output_type": "stream",
     "text": [
      "load experiment[R2_pixel] in dataset[yuan2021seam] from /home/yzy/anaconda3/envs/SODB/lib/python3.9/site-packages/pysodb-1.0.0-py3.9.egg/pysodb/cache/yuan2021seam/R2_pixel.h5ad\n",
      "download experiment[NCTC1469withIdU_Hepa1-6_pixel] in dataset[yuan2021seam]\n"
     ]
    },
    {
     "name": "stderr",
     "output_type": "stream",
     "text": [
      "100%|██████████| 99.1M/99.1M [00:08<00:00, 12.6MB/s]\n"
     ]
    },
    {
     "name": "stdout",
     "output_type": "stream",
     "text": [
      "load experiment[NCTC1469withIdU_Hepa1-6_pixel] in dataset[yuan2021seam] from /home/yzy/anaconda3/envs/SODB/lib/python3.9/site-packages/pysodb-1.0.0-py3.9.egg/pysodb/cache/yuan2021seam/NCTC1469withIdU_Hepa1-6_pixel.h5ad\n",
      "download experiment[R1_pixel] in dataset[yuan2021seam]\n"
     ]
    },
    {
     "name": "stderr",
     "output_type": "stream",
     "text": [
      "100%|██████████| 113M/113M [00:14<00:00, 7.99MB/s] \n"
     ]
    },
    {
     "name": "stdout",
     "output_type": "stream",
     "text": [
      "load experiment[R1_pixel] in dataset[yuan2021seam] from /home/yzy/anaconda3/envs/SODB/lib/python3.9/site-packages/pysodb-1.0.0-py3.9.egg/pysodb/cache/yuan2021seam/R1_pixel.h5ad\n",
      "download experiment[R3_pixel] in dataset[yuan2021seam]\n"
     ]
    },
    {
     "name": "stderr",
     "output_type": "stream",
     "text": [
      "100%|██████████| 114M/114M [00:08<00:00, 13.7MB/s] \n"
     ]
    },
    {
     "name": "stdout",
     "output_type": "stream",
     "text": [
      "load experiment[R3_pixel] in dataset[yuan2021seam] from /home/yzy/anaconda3/envs/SODB/lib/python3.9/site-packages/pysodb-1.0.0-py3.9.egg/pysodb/cache/yuan2021seam/R3_pixel.h5ad\n",
      "download experiment[A549withBrdU_Hela_pixel] in dataset[yuan2021seam]\n"
     ]
    },
    {
     "name": "stderr",
     "output_type": "stream",
     "text": [
      "100%|██████████| 125M/125M [00:16<00:00, 8.11MB/s] \n"
     ]
    },
    {
     "name": "stdout",
     "output_type": "stream",
     "text": [
      "load experiment[A549withBrdU_Hela_pixel] in dataset[yuan2021seam] from /home/yzy/anaconda3/envs/SODB/lib/python3.9/site-packages/pysodb-1.0.0-py3.9.egg/pysodb/cache/yuan2021seam/A549withBrdU_Hela_pixel.h5ad\n",
      "download experiment[R4_pixel] in dataset[yuan2021seam]\n"
     ]
    },
    {
     "name": "stderr",
     "output_type": "stream",
     "text": [
      "100%|██████████| 113M/113M [00:16<00:00, 7.34MB/s] \n"
     ]
    },
    {
     "name": "stdout",
     "output_type": "stream",
     "text": [
      "load experiment[R4_pixel] in dataset[yuan2021seam] from /home/yzy/anaconda3/envs/SODB/lib/python3.9/site-packages/pysodb-1.0.0-py3.9.egg/pysodb/cache/yuan2021seam/R4_pixel.h5ad\n"
     ]
    },
    {
     "data": {
      "text/plain": [
       "{'R2_pixel': AnnData object with n_obs × n_vars = 65536 × 231\n",
       "     obs: 'leiden'\n",
       "     uns: 'leiden', 'leiden_colors', 'log1p', 'moranI', 'neighbors', 'pca', 'spatial_neighbors', 'umap'\n",
       "     obsm: 'X_pca', 'X_umap', 'spatial'\n",
       "     varm: 'PCs'\n",
       "     obsp: 'connectivities', 'distances', 'spatial_connectivities', 'spatial_distances',\n",
       " 'NCTC1469withIdU_Hepa1-6_pixel': AnnData object with n_obs × n_vars = 65536 × 168\n",
       "     obs: 'mask', 'cellidx', 'cell_label', 'leiden'\n",
       "     uns: 'cell_label_colors', 'cellidx_colors', 'leiden', 'leiden_colors', 'log1p', 'moranI', 'neighbors', 'pca', 'spatial_neighbors', 'umap'\n",
       "     obsm: 'X_pca', 'X_umap', 'spatial'\n",
       "     varm: 'PCs'\n",
       "     obsp: 'connectivities', 'distances', 'spatial_connectivities', 'spatial_distances',\n",
       " 'R1_pixel': AnnData object with n_obs × n_vars = 65536 × 228\n",
       "     obs: 'leiden'\n",
       "     uns: 'leiden', 'leiden_colors', 'log1p', 'moranI', 'neighbors', 'pca', 'spatial_neighbors', 'umap'\n",
       "     obsm: 'X_pca', 'X_umap', 'spatial'\n",
       "     varm: 'PCs'\n",
       "     obsp: 'connectivities', 'distances', 'spatial_connectivities', 'spatial_distances',\n",
       " 'R3_pixel': AnnData object with n_obs × n_vars = 65536 × 234\n",
       "     obs: 'leiden'\n",
       "     uns: 'leiden', 'leiden_colors', 'log1p', 'moranI', 'neighbors', 'pca', 'spatial_neighbors', 'umap'\n",
       "     obsm: 'X_pca', 'X_umap', 'spatial'\n",
       "     varm: 'PCs'\n",
       "     obsp: 'connectivities', 'distances', 'spatial_connectivities', 'spatial_distances',\n",
       " 'A549withBrdU_Hela_pixel': AnnData object with n_obs × n_vars = 65536 × 274\n",
       "     obs: 'leiden'\n",
       "     uns: 'leiden', 'leiden_colors', 'log1p', 'moranI', 'neighbors', 'pca', 'spatial_neighbors', 'umap'\n",
       "     obsm: 'X_pca', 'X_umap', 'spatial'\n",
       "     varm: 'PCs'\n",
       "     obsp: 'connectivities', 'distances', 'spatial_connectivities', 'spatial_distances',\n",
       " 'R4_pixel': AnnData object with n_obs × n_vars = 65536 × 228\n",
       "     obs: 'leiden'\n",
       "     uns: 'leiden', 'leiden_colors', 'log1p', 'moranI', 'neighbors', 'pca', 'spatial_neighbors', 'umap'\n",
       "     obsm: 'X_pca', 'X_umap', 'spatial'\n",
       "     varm: 'PCs'\n",
       "     obsp: 'connectivities', 'distances', 'spatial_connectivities', 'spatial_distances'}"
      ]
     },
     "execution_count": 11,
     "metadata": {},
     "output_type": "execute_result"
    }
   ],
   "source": [
    "# Load a specific dataset\n",
    "sodb.load_dataset(\"yuan2021seam\") # Load a specific dataset"
   ]
  },
  {
   "cell_type": "markdown",
   "metadata": {},
   "source": [
    "### Load experiment"
   ]
  },
  {
   "cell_type": "code",
   "execution_count": 12,
   "metadata": {},
   "outputs": [
    {
     "name": "stdout",
     "output_type": "stream",
     "text": [
      "load experiment[NCTC1469withIdU_Hepa1-6_pixel] in dataset[yuan2021seam] from /home/yzy/anaconda3/envs/SODB/lib/python3.9/site-packages/pysodb-1.0.0-py3.9.egg/pysodb/cache/yuan2021seam/NCTC1469withIdU_Hepa1-6_pixel.h5ad\n"
     ]
    },
    {
     "data": {
      "text/plain": [
       "AnnData object with n_obs × n_vars = 65536 × 168\n",
       "    obs: 'mask', 'cellidx', 'cell_label', 'leiden'\n",
       "    uns: 'cell_label_colors', 'cellidx_colors', 'leiden', 'leiden_colors', 'log1p', 'moranI', 'neighbors', 'pca', 'spatial_neighbors', 'umap'\n",
       "    obsm: 'X_pca', 'X_umap', 'spatial'\n",
       "    varm: 'PCs'\n",
       "    obsp: 'connectivities', 'distances', 'spatial_connectivities', 'spatial_distances'"
      ]
     },
     "execution_count": 12,
     "metadata": {},
     "output_type": "execute_result"
    }
   ],
   "source": [
    "# Load a specific experiment \n",
    "sodb.load_experiment(\"yuan2021seam\", \"NCTC1469withIdU_Hepa1-6_pixel\")"
   ]
  }
 ],
 "metadata": {
  "kernelspec": {
   "display_name": "Python 3.8.13 ('pysodb')",
   "language": "python",
   "name": "python3"
  },
  "language_info": {
   "codemirror_mode": {
    "name": "ipython",
    "version": 3
   },
   "file_extension": ".py",
   "mimetype": "text/x-python",
   "name": "python",
   "nbconvert_exporter": "python",
   "pygments_lexer": "ipython3",
   "version": "3.8.13"
  },
  "vscode": {
   "interpreter": {
    "hash": "3b0ddcd4c0fae94ad6799c558f26a5b9250bf804bcb9efc42405ace58eb42781"
   }
  }
 },
 "nbformat": 4,
 "nbformat_minor": 4
}
